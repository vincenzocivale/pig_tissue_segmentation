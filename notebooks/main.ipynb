{
 "cells": [
  {
   "cell_type": "code",
   "execution_count": null,
   "metadata": {},
   "outputs": [
    {
     "name": "stderr",
     "output_type": "stream",
     "text": [
      "  0%|          | 0/6 [00:00<?, ?it/s]c:\\Users\\cical\\Documents\\GitHub\\Repositories\\pig_tissue_segmentation\\.venv\\lib\\site-packages\\PIL\\Image.py:3402: DecompressionBombWarning: Image size (113209979 pixels) exceeds limit of 89478485 pixels, could be decompression bomb DOS attack.\n",
      "  warnings.warn(\n"
     ]
    }
   ],
   "source": [
    "import sys\n",
    "import os\n",
    "from tqdm import tqdm\n",
    "\n",
    "# Aggiungi il percorso del progetto al PYTHONPATH\n",
    "sys.path.append(os.path.abspath(r\"C:\\Users\\cical\\Documents\\GitHub\\Repositories\\pig_tissue_segmentation\"))\n",
    "\n",
    "import src.data.make_dataset as make_dataset\n",
    "import src.data.image_info as image_info\n",
    "\n",
    "slice_dict = make_dataset.load_image_slices(r\"C:\\Users\\cical\\Documents\\GitHub\\Repositories\\pig_tissue_segmentation\\data\\raw\")\n",
    "\n",
    "for slice_id in tqdm(slice_dict):\n",
    "    imageInfo = image_info.ImageSlice(slice_id, slice_dict[slice_id]['wga'], slice_dict[slice_id]['collagen'], slice_dict[slice_id]['autofluorescence'])\n",
    "    imageInfo.analyse_image()\n",
    "\n"
   ]
  }
 ],
 "metadata": {
  "kernelspec": {
   "display_name": ".venv",
   "language": "python",
   "name": "python3"
  },
  "language_info": {
   "codemirror_mode": {
    "name": "ipython",
    "version": 3
   },
   "file_extension": ".py",
   "mimetype": "text/x-python",
   "name": "python",
   "nbconvert_exporter": "python",
   "pygments_lexer": "ipython3",
   "version": "3.10.10"
  }
 },
 "nbformat": 4,
 "nbformat_minor": 2
}
