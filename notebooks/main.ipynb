{
 "cells": [
  {
   "cell_type": "code",
   "execution_count": 1,
   "metadata": {},
   "outputs": [],
   "source": [
    "import sys\n",
    "import os\n",
    "from tqdm import tqdm\n",
    "# from src.models.setup_model import setup_sam2, load_sam2\n",
    "\n",
    "# Aggiunge il percorso del progetto al PYTHONPATH\n",
    "current_dir = os.path.abspath(os.getcwd())\n",
    "project_home_dir = os.path.abspath(os.path.join(current_dir, os.pardir))\n",
    "\n",
    "sys.path.append(project_home_dir)\n",
    "\n",
    "# # Carica il modello SAM2\n",
    "# setup_sam2(project_home_dir)\n",
    "# predictor = load_sam2(project_home_dir)"
   ]
  },
  {
   "cell_type": "code",
   "execution_count": 2,
   "metadata": {},
   "outputs": [
    {
     "name": "stderr",
     "output_type": "stream",
     "text": [
      "  0%|          | 0/6 [00:02<?, ?it/s]\n"
     ]
    },
    {
     "ename": "OverflowError",
     "evalue": "Python integer 10189 out of bounds for uint8",
     "output_type": "error",
     "traceback": [
      "\u001b[1;31m---------------------------------------------------------------------------\u001b[0m",
      "\u001b[1;31mOverflowError\u001b[0m                             Traceback (most recent call last)",
      "Cell \u001b[1;32mIn[2], line 19\u001b[0m\n\u001b[0;32m     17\u001b[0m imageInfo \u001b[38;5;241m=\u001b[39m image_info\u001b[38;5;241m.\u001b[39mImageSlice(slice_id)\n\u001b[0;32m     18\u001b[0m imageInfo\u001b[38;5;241m.\u001b[39mload_images(slice_dict[slice_id][\u001b[38;5;124m'\u001b[39m\u001b[38;5;124mwga\u001b[39m\u001b[38;5;124m'\u001b[39m], slice_dict[slice_id][\u001b[38;5;124m'\u001b[39m\u001b[38;5;124mcollagen\u001b[39m\u001b[38;5;124m'\u001b[39m], slice_dict[slice_id][\u001b[38;5;124m'\u001b[39m\u001b[38;5;124mautofluorescence\u001b[39m\u001b[38;5;124m'\u001b[39m])\n\u001b[1;32m---> 19\u001b[0m \u001b[43mimageInfo\u001b[49m\u001b[38;5;241;43m.\u001b[39;49m\u001b[43manalyse_image2\u001b[49m\u001b[43m(\u001b[49m\u001b[43mmask_path\u001b[49m\u001b[43m)\u001b[49m\n\u001b[0;32m     20\u001b[0m imageInfo\u001b[38;5;241m.\u001b[39msave_results()\n",
      "File \u001b[1;32mc:\\Users\\cical\\Documents\\GitHub\\Repositories\\pig_tissue_segmentation\\src\\data\\image_info.py:73\u001b[0m, in \u001b[0;36mImageSlice.analyse_image2\u001b[1;34m(self, mask_path)\u001b[0m\n\u001b[0;32m     70\u001b[0m \u001b[38;5;28mself\u001b[39m\u001b[38;5;241m.\u001b[39msegmented_tissue \u001b[38;5;241m=\u001b[39m cv2\u001b[38;5;241m.\u001b[39mimread(mask_path, cv2\u001b[38;5;241m.\u001b[39mIMREAD_GRAYSCALE)\n\u001b[0;32m     72\u001b[0m \u001b[38;5;66;03m# Apply mask of tissue region to the autofluorescence image and then execute pre-processing\u001b[39;00m\n\u001b[1;32m---> 73\u001b[0m \u001b[38;5;28mself\u001b[39m\u001b[38;5;241m.\u001b[39mpreprocessed_auto \u001b[38;5;241m=\u001b[39m \u001b[43mpi\u001b[49m\u001b[38;5;241;43m.\u001b[39;49m\u001b[43menhance_image\u001b[49m\u001b[43m(\u001b[49m\u001b[38;5;28;43mself\u001b[39;49m\u001b[38;5;241;43m.\u001b[39;49m\u001b[43mautofluorescence\u001b[49m\u001b[43m,\u001b[49m\u001b[43m \u001b[49m\u001b[38;5;28;43mself\u001b[39;49m\u001b[38;5;241;43m.\u001b[39;49m\u001b[43msegmented_tissue\u001b[49m\u001b[43m)\u001b[49m\n\u001b[0;32m     74\u001b[0m \u001b[38;5;28mself\u001b[39m\u001b[38;5;241m.\u001b[39msuperpixel_segments \u001b[38;5;241m=\u001b[39m pi\u001b[38;5;241m.\u001b[39mgenerate_superpixels(\u001b[38;5;28mself\u001b[39m\u001b[38;5;241m.\u001b[39mpreprocessed_auto, \u001b[38;5;28mself\u001b[39m\u001b[38;5;241m.\u001b[39msegmented_tissue)\n\u001b[0;32m     76\u001b[0m masks_unsupervised \u001b[38;5;241m=\u001b[39m seg\u001b[38;5;241m.\u001b[39msuperpixel_clustering_segmentation(\u001b[38;5;28mself\u001b[39m\u001b[38;5;241m.\u001b[39msuperpixel_segments, \u001b[38;5;28mself\u001b[39m\u001b[38;5;241m.\u001b[39mpreprocessed_auto)\n",
      "File \u001b[1;32mc:\\Users\\cical\\Documents\\GitHub\\Repositories\\pig_tissue_segmentation\\src\\data\\pre_process_image.py:159\u001b[0m, in \u001b[0;36menhance_image\u001b[1;34m(image, scale_factor, mask, reference)\u001b[0m\n\u001b[0;32m    156\u001b[0m \u001b[38;5;28;01melse\u001b[39;00m:\n\u001b[0;32m    157\u001b[0m     image_gray \u001b[38;5;241m=\u001b[39m image\n\u001b[1;32m--> 159\u001b[0m resized_image \u001b[38;5;241m=\u001b[39m \u001b[43mreduce_image\u001b[49m\u001b[43m(\u001b[49m\u001b[43mimage_gray\u001b[49m\u001b[43m,\u001b[49m\u001b[43m \u001b[49m\u001b[43mscale_factor\u001b[49m\u001b[38;5;241;43m=\u001b[39;49m\u001b[43mscale_factor\u001b[49m\u001b[43m)\u001b[49m\n\u001b[0;32m    161\u001b[0m \u001b[38;5;66;03m# Step 1: Aumenta il contrasto con histogram stretching\u001b[39;00m\n\u001b[0;32m    162\u001b[0m image_gray \u001b[38;5;241m=\u001b[39m histogram_stretching(resized_image)\n",
      "File \u001b[1;32mc:\\Users\\cical\\Documents\\GitHub\\Repositories\\pig_tissue_segmentation\\src\\data\\pre_process_image.py:140\u001b[0m, in \u001b[0;36mreduce_image\u001b[1;34m(image, scale_factor)\u001b[0m\n\u001b[0;32m    128\u001b[0m \u001b[38;5;250m\u001b[39m\u001b[38;5;124;03m\"\"\"\u001b[39;00m\n\u001b[0;32m    129\u001b[0m \u001b[38;5;124;03mRiduce le dimensioni dell'immagine applicando un fattore di scala.\u001b[39;00m\n\u001b[0;32m    130\u001b[0m \n\u001b[1;32m   (...)\u001b[0m\n\u001b[0;32m    137\u001b[0m \u001b[38;5;124;03m    ndarray: Immagine ridimensionata.\u001b[39;00m\n\u001b[0;32m    138\u001b[0m \u001b[38;5;124;03m\"\"\"\u001b[39;00m\n\u001b[0;32m    139\u001b[0m \u001b[38;5;66;03m# Calcola le nuove dimensioni\u001b[39;00m\n\u001b[1;32m--> 140\u001b[0m new_rows \u001b[38;5;241m=\u001b[39m \u001b[38;5;28mint\u001b[39m(\u001b[43mimage\u001b[49m\u001b[38;5;241;43m.\u001b[39;49m\u001b[43mshape\u001b[49m\u001b[43m[\u001b[49m\u001b[38;5;241;43m0\u001b[39;49m\u001b[43m]\u001b[49m\u001b[43m \u001b[49m\u001b[38;5;241;43m*\u001b[39;49m\u001b[43m \u001b[49m\u001b[43mscale_factor\u001b[49m)\n\u001b[0;32m    141\u001b[0m new_cols \u001b[38;5;241m=\u001b[39m \u001b[38;5;28mint\u001b[39m(image\u001b[38;5;241m.\u001b[39mshape[\u001b[38;5;241m1\u001b[39m] \u001b[38;5;241m*\u001b[39m scale_factor)\n\u001b[0;32m    143\u001b[0m \u001b[38;5;66;03m# Ridimensiona l'immagine\u001b[39;00m\n",
      "\u001b[1;31mOverflowError\u001b[0m: Python integer 10189 out of bounds for uint8"
     ]
    }
   ],
   "source": [
    "import src.data.make_dataset as make_dataset\n",
    "import src.data.image_info as image_info\n",
    "\n",
    "slice_dict = make_dataset.load_image_slices(os.path.join(project_home_dir, r\"data\\raw\"))\n",
    "masks_path_list = {\n",
    "    'BZ2': r\"C:\\Users\\cical\\Documents\\GitHub\\Repositories\\pig_tissue_segmentation\\drive-download-20250222T173434Z-001\\slice_BZ2_preprocessed_collagen_tissue_mask.png\",\n",
    "    'BZ3': r\"C:\\Users\\cical\\Documents\\GitHub\\Repositories\\pig_tissue_segmentation\\drive-download-20250222T173434Z-001\\slice_BZ3_preprocessed_collagen_tissue_mask.png\",\n",
    "    'BZ5': r\"C:\\Users\\cical\\Documents\\GitHub\\Repositories\\pig_tissue_segmentation\\drive-download-20250222T173434Z-001\\slice_BZ5_preprocessed_collagen_tissue_mask.png\",\n",
    "    'BZ6': r\"C:\\Users\\cical\\Documents\\GitHub\\Repositories\\pig_tissue_segmentation\\drive-download-20250222T173434Z-001\\slice_BZ6_preprocessed_collagen_tissue_mask.png\",\n",
    "    'RE1': r\"C:\\Users\\cical\\Documents\\GitHub\\Repositories\\pig_tissue_segmentation\\drive-download-20250222T173434Z-001\\slice_RE1_preprocessed_collagen_tissue_mask.png\",\n",
    "    'RE2': r\"C:\\Users\\cical\\Documents\\GitHub\\Repositories\\pig_tissue_segmentation\\drive-download-20250222T173434Z-001\\slice_RE2_preprocessed_collagen_tissue_mask.png\",\n",
    "}\n",
    "\n",
    "\n",
    "for slice_id in tqdm(slice_dict):\n",
    "    mask_path = masks_path_list[slice_id]\n",
    "    imageInfo = image_info.ImageSlice(slice_id)\n",
    "    imageInfo.load_images(slice_dict[slice_id]['wga'], slice_dict[slice_id]['collagen'], slice_dict[slice_id]['autofluorescence'])\n",
    "    imageInfo.analyse_image2(mask_path)\n",
    "    imageInfo.save_results()"
   ]
  }
 ],
 "metadata": {
  "kernelspec": {
   "display_name": ".venv",
   "language": "python",
   "name": "python3"
  },
  "language_info": {
   "codemirror_mode": {
    "name": "ipython",
    "version": 3
   },
   "file_extension": ".py",
   "mimetype": "text/x-python",
   "name": "python",
   "nbconvert_exporter": "python",
   "pygments_lexer": "ipython3",
   "version": "3.10.10"
  }
 },
 "nbformat": 4,
 "nbformat_minor": 2
}
