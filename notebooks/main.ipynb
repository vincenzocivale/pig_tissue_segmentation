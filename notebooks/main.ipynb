{
 "cells": [
  {
   "cell_type": "code",
   "execution_count": 1,
   "metadata": {},
   "outputs": [],
   "source": [
    "import sys\n",
    "import os\n",
    "\n",
    "# Aggiungi il percorso del progetto al PYTHONPATH\n",
    "sys.path.append(os.path.abspath(r\"C:\\Users\\cical\\Documents\\GitHub\\Repositories\\pig_tissue_segmentation\"))\n",
    "\n",
    "import src.data.make_dataset as make_dataset\n",
    "\n",
    "slice_list = make_dataset.load_image_slices(r\"C:\\Users\\cical\\Documents\\GitHub\\Repositories\\pig_tissue_segmentation\\data\\raw\")\n",
    "\n",
    "for slice in slice_list:\n",
    "    slice.analyse_image()\n"
   ]
  }
 ],
 "metadata": {
  "kernelspec": {
   "display_name": ".venv",
   "language": "python",
   "name": "python3"
  },
  "language_info": {
   "codemirror_mode": {
    "name": "ipython",
    "version": 3
   },
   "file_extension": ".py",
   "mimetype": "text/x-python",
   "name": "python",
   "nbconvert_exporter": "python",
   "pygments_lexer": "ipython3",
   "version": "3.10.10"
  }
 },
 "nbformat": 4,
 "nbformat_minor": 2
}
