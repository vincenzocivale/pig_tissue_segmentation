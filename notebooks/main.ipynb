{
 "cells": [
  {
   "cell_type": "code",
   "execution_count": 1,
   "metadata": {},
   "outputs": [],
   "source": [
    "import sys\n",
    "import os\n",
    "from tqdm import tqdm\n",
    "# from src.models.setup_model import setup_sam2, load_sam2\n",
    "\n",
    "# Aggiunge il percorso del progetto al PYTHONPATH\n",
    "current_dir = os.path.abspath(os.getcwd())\n",
    "project_home_dir = os.path.abspath(os.path.join(current_dir, os.pardir))\n",
    "\n",
    "sys.path.append(project_home_dir)\n",
    "\n",
    "# # Carica il modello SAM2\n",
    "# setup_sam2(project_home_dir)\n",
    "# predictor = load_sam2(project_home_dir)"
   ]
  },
  {
   "cell_type": "code",
   "execution_count": 2,
   "metadata": {},
   "outputs": [
    {
     "name": "stderr",
     "output_type": "stream",
     "text": [
      " 50%|█████     | 3/6 [00:42<00:42, 14.22s/it]\n"
     ]
    },
    {
     "ename": "ValueError",
     "evalue": "Impossibile caricare l'immagine dal percorso: C:\\Users\\cical\\Documents\\GitHub\\Repositories\\pig_tissue_segmentation\\data\\processed\\slice_BZ6\\slice_BZ6_preprocessed_auto.png",
     "output_type": "error",
     "traceback": [
      "\u001b[1;31m---------------------------------------------------------------------------\u001b[0m",
      "\u001b[1;31mValueError\u001b[0m                                Traceback (most recent call last)",
      "Cell \u001b[1;32mIn[2], line 8\u001b[0m\n\u001b[0;32m      6\u001b[0m \u001b[38;5;28;01mfor\u001b[39;00m slice_id \u001b[38;5;129;01min\u001b[39;00m tqdm(slice_dict):\n\u001b[0;32m      7\u001b[0m     imageInfo \u001b[38;5;241m=\u001b[39m image_info\u001b[38;5;241m.\u001b[39mImageSlice(slice_id, slice_dict[slice_id][\u001b[38;5;124m'\u001b[39m\u001b[38;5;124mwga\u001b[39m\u001b[38;5;124m'\u001b[39m], slice_dict[slice_id][\u001b[38;5;124m'\u001b[39m\u001b[38;5;124mcollagen\u001b[39m\u001b[38;5;124m'\u001b[39m], slice_dict[slice_id][\u001b[38;5;124m'\u001b[39m\u001b[38;5;124mautofluorescence\u001b[39m\u001b[38;5;124m'\u001b[39m])\n\u001b[1;32m----> 8\u001b[0m     \u001b[43mimageInfo\u001b[49m\u001b[38;5;241;43m.\u001b[39;49m\u001b[43manalyse_image\u001b[49m\u001b[43m(\u001b[49m\u001b[43m)\u001b[49m\n",
      "File \u001b[1;32mc:\\Users\\cical\\Documents\\GitHub\\Repositories\\pig_tissue_segmentation\\src\\data\\image_info.py:58\u001b[0m, in \u001b[0;36mImageSlice.analyse_image\u001b[1;34m(self, predictor)\u001b[0m\n\u001b[0;32m     55\u001b[0m cv2\u001b[38;5;241m.\u001b[39mimwrite(preprocessed_auto_path, \u001b[38;5;28mself\u001b[39m\u001b[38;5;241m.\u001b[39mpreprocessed_auto)\n\u001b[0;32m     57\u001b[0m \u001b[38;5;66;03m#cardio_mask = seg.segmentation_with_box(predictor, preprocessed_auto_path)\u001b[39;00m\n\u001b[1;32m---> 58\u001b[0m cardio_mask \u001b[38;5;241m=\u001b[39m \u001b[43mseg\u001b[49m\u001b[38;5;241;43m.\u001b[39;49m\u001b[43mapply_otsu_threshold\u001b[49m\u001b[43m(\u001b[49m\u001b[43mpreprocessed_auto_path\u001b[49m\u001b[43m,\u001b[49m\u001b[43m \u001b[49m\u001b[43mtissue_mask\u001b[49m\u001b[43m)\u001b[49m\n\u001b[0;32m     59\u001b[0m \u001b[38;5;66;03m#self.segmented_cardios= seg.annotate_mask_only(self.preprocessed_collagen, cardio_mask)\u001b[39;00m\n\u001b[0;32m     60\u001b[0m \u001b[38;5;28mself\u001b[39m\u001b[38;5;241m.\u001b[39msegmented_cardios \u001b[38;5;241m=\u001b[39m cardio_mask\n",
      "File \u001b[1;32mc:\\Users\\cical\\Documents\\GitHub\\Repositories\\pig_tissue_segmentation\\src\\models\\segmentation.py:223\u001b[0m, in \u001b[0;36mapply_otsu_threshold\u001b[1;34m(image_path, mask)\u001b[0m\n\u001b[0;32m    221\u001b[0m image \u001b[38;5;241m=\u001b[39m cv2\u001b[38;5;241m.\u001b[39mimread(image_path, cv2\u001b[38;5;241m.\u001b[39mIMREAD_GRAYSCALE)\n\u001b[0;32m    222\u001b[0m \u001b[38;5;28;01mif\u001b[39;00m image \u001b[38;5;129;01mis\u001b[39;00m \u001b[38;5;28;01mNone\u001b[39;00m:\n\u001b[1;32m--> 223\u001b[0m     \u001b[38;5;28;01mraise\u001b[39;00m \u001b[38;5;167;01mValueError\u001b[39;00m(\u001b[38;5;124mf\u001b[39m\u001b[38;5;124m\"\u001b[39m\u001b[38;5;124mImpossibile caricare l\u001b[39m\u001b[38;5;124m'\u001b[39m\u001b[38;5;124mimmagine dal percorso: \u001b[39m\u001b[38;5;132;01m{\u001b[39;00mimage_path\u001b[38;5;132;01m}\u001b[39;00m\u001b[38;5;124m\"\u001b[39m)\n\u001b[0;32m    225\u001b[0m \u001b[38;5;28;01mif\u001b[39;00m mask \u001b[38;5;129;01mis\u001b[39;00m \u001b[38;5;129;01mnot\u001b[39;00m \u001b[38;5;28;01mNone\u001b[39;00m:\n\u001b[0;32m    226\u001b[0m     \u001b[38;5;66;03m# Assicurati che la maschera sia binaria\u001b[39;00m\n\u001b[0;32m    227\u001b[0m     _, mask \u001b[38;5;241m=\u001b[39m cv2\u001b[38;5;241m.\u001b[39mthreshold(mask, \u001b[38;5;241m127\u001b[39m, \u001b[38;5;241m255\u001b[39m, cv2\u001b[38;5;241m.\u001b[39mTHRESH_BINARY)\n",
      "\u001b[1;31mValueError\u001b[0m: Impossibile caricare l'immagine dal percorso: C:\\Users\\cical\\Documents\\GitHub\\Repositories\\pig_tissue_segmentation\\data\\processed\\slice_BZ6\\slice_BZ6_preprocessed_auto.png"
     ]
    }
   ],
   "source": [
    "import src.data.make_dataset as make_dataset\n",
    "import src.data.image_info as image_info\n",
    "\n",
    "slice_dict = make_dataset.load_image_slices(os.path.join(project_home_dir, r\"data\\raw\"))\n",
    "\n",
    "for slice_id in tqdm(slice_dict):\n",
    "    imageInfo = image_info.ImageSlice(slice_id, slice_dict[slice_id]['wga'], slice_dict[slice_id]['collagen'], slice_dict[slice_id]['autofluorescence'])\n",
    "    imageInfo.analyse_image()"
   ]
  }
 ],
 "metadata": {
  "kernelspec": {
   "display_name": ".venv",
   "language": "python",
   "name": "python3"
  },
  "language_info": {
   "codemirror_mode": {
    "name": "ipython",
    "version": 3
   },
   "file_extension": ".py",
   "mimetype": "text/x-python",
   "name": "python",
   "nbconvert_exporter": "python",
   "pygments_lexer": "ipython3",
   "version": "3.10.10"
  }
 },
 "nbformat": 4,
 "nbformat_minor": 2
}
