{
 "cells": [
  {
   "cell_type": "code",
   "execution_count": 1,
   "metadata": {},
   "outputs": [
    {
     "name": "stderr",
     "output_type": "stream",
     "text": [
      "  0%|          | 0/6 [00:00<?, ?it/s]c:\\Users\\cical\\Documents\\GitHub\\Repositories\\pig_tissue_segmentation\\.venv\\lib\\site-packages\\PIL\\Image.py:3402: DecompressionBombWarning: Image size (113209979 pixels) exceeds limit of 89478485 pixels, could be decompression bomb DOS attack.\n",
      "  warnings.warn(\n",
      "  0%|          | 0/6 [00:01<?, ?it/s]\n"
     ]
    },
    {
     "ename": "AttributeError",
     "evalue": "module 'src.data.segmentation' has no attribute 'watershed_segmentation'",
     "output_type": "error",
     "traceback": [
      "\u001b[1;31m---------------------------------------------------------------------------\u001b[0m",
      "\u001b[1;31mAttributeError\u001b[0m                            Traceback (most recent call last)",
      "Cell \u001b[1;32mIn[1], line 15\u001b[0m\n\u001b[0;32m     13\u001b[0m \u001b[38;5;28;01mfor\u001b[39;00m slice_id \u001b[38;5;129;01min\u001b[39;00m tqdm(slice_dict):\n\u001b[0;32m     14\u001b[0m     imageInfo \u001b[38;5;241m=\u001b[39m image_info\u001b[38;5;241m.\u001b[39mImageSlice(slice_id, slice_dict[slice_id][\u001b[38;5;124m'\u001b[39m\u001b[38;5;124mwga\u001b[39m\u001b[38;5;124m'\u001b[39m], slice_dict[slice_id][\u001b[38;5;124m'\u001b[39m\u001b[38;5;124mcollagen\u001b[39m\u001b[38;5;124m'\u001b[39m], slice_dict[slice_id][\u001b[38;5;124m'\u001b[39m\u001b[38;5;124mautofluorescence\u001b[39m\u001b[38;5;124m'\u001b[39m])\n\u001b[1;32m---> 15\u001b[0m     \u001b[43mimageInfo\u001b[49m\u001b[38;5;241;43m.\u001b[39;49m\u001b[43manalyse_image\u001b[49m\u001b[43m(\u001b[49m\u001b[43m)\u001b[49m\n",
      "File \u001b[1;32m~\\Documents\\GitHub\\Repositories\\pig_tissue_segmentation\\src\\data\\image_info.py:85\u001b[0m, in \u001b[0;36mImageSlice.analyse_image\u001b[1;34m(self)\u001b[0m\n\u001b[0;32m     83\u001b[0m \u001b[38;5;28;01mdef\u001b[39;00m\u001b[38;5;250m \u001b[39m\u001b[38;5;21manalyse_image\u001b[39m(\u001b[38;5;28mself\u001b[39m):\n\u001b[0;32m     84\u001b[0m     \u001b[38;5;28mself\u001b[39m\u001b[38;5;241m.\u001b[39m_preprocess()\n\u001b[1;32m---> 85\u001b[0m     \u001b[38;5;28;43mself\u001b[39;49m\u001b[38;5;241;43m.\u001b[39;49m\u001b[43m_segment_image\u001b[49m\u001b[43m(\u001b[49m\u001b[43m)\u001b[49m\n\u001b[0;32m     86\u001b[0m     \u001b[38;5;66;03m#self._postprocess()\u001b[39;00m\n\u001b[0;32m     87\u001b[0m     \u001b[38;5;28mself\u001b[39m\u001b[38;5;241m.\u001b[39m_save_results()\n",
      "File \u001b[1;32m~\\Documents\\GitHub\\Repositories\\pig_tissue_segmentation\\src\\data\\image_info.py:46\u001b[0m, in \u001b[0;36mImageSlice._segment_image\u001b[1;34m(self)\u001b[0m\n\u001b[0;32m     44\u001b[0m \u001b[38;5;28;01mdef\u001b[39;00m\u001b[38;5;250m \u001b[39m\u001b[38;5;21m_segment_image\u001b[39m(\u001b[38;5;28mself\u001b[39m):\n\u001b[1;32m---> 46\u001b[0m     \u001b[38;5;28mself\u001b[39m\u001b[38;5;241m.\u001b[39msegmented_tissue \u001b[38;5;241m=\u001b[39m \u001b[43mseg\u001b[49m\u001b[38;5;241;43m.\u001b[39;49m\u001b[43mwatershed_segmentation\u001b[49m(\u001b[38;5;28mself\u001b[39m\u001b[38;5;241m.\u001b[39mpreprocessed_wga)\n\u001b[0;32m     48\u001b[0m     \u001b[38;5;66;03m# Apply mask of tissue region to the autofluorescence image\u001b[39;00m\n\u001b[0;32m     49\u001b[0m     \u001b[38;5;28mself\u001b[39m\u001b[38;5;241m.\u001b[39msegmented_cardios \u001b[38;5;241m=\u001b[39m seg\u001b[38;5;241m.\u001b[39mwatershed_segmentation(\u001b[38;5;28mself\u001b[39m\u001b[38;5;241m.\u001b[39mpreprocessed_auto)\n",
      "\u001b[1;31mAttributeError\u001b[0m: module 'src.data.segmentation' has no attribute 'watershed_segmentation'"
     ]
    }
   ],
   "source": [
    "import sys\n",
    "import os\n",
    "from tqdm import tqdm\n",
    "\n",
    "# Aggiungi il percorso del progetto al PYTHONPATH\n",
    "sys.path.append(os.path.abspath(r\"C:\\Users\\cical\\Documents\\GitHub\\Repositories\\pig_tissue_segmentation\"))\n",
    "\n",
    "import src.data.make_dataset as make_dataset\n",
    "import src.data.image_info as image_info\n",
    "\n",
    "slice_dict = make_dataset.load_image_slices(r\"C:\\Users\\cical\\Documents\\GitHub\\Repositories\\pig_tissue_segmentation\\data\\raw\")\n",
    "\n",
    "for slice_id in tqdm(slice_dict):\n",
    "    imageInfo = image_info.ImageSlice(slice_id, slice_dict[slice_id]['wga'], slice_dict[slice_id]['collagen'], slice_dict[slice_id]['autofluorescence'])\n",
    "    imageInfo.analyse_image()\n",
    "\n"
   ]
  }
 ],
 "metadata": {
  "kernelspec": {
   "display_name": ".venv",
   "language": "python",
   "name": "python3"
  },
  "language_info": {
   "codemirror_mode": {
    "name": "ipython",
    "version": 3
   },
   "file_extension": ".py",
   "mimetype": "text/x-python",
   "name": "python",
   "nbconvert_exporter": "python",
   "pygments_lexer": "ipython3",
   "version": "3.10.10"
  }
 },
 "nbformat": 4,
 "nbformat_minor": 2
}
