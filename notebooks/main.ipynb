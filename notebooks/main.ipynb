{
 "cells": [
  {
   "cell_type": "code",
   "execution_count": 2,
   "metadata": {},
   "outputs": [
    {
     "name": "stderr",
     "output_type": "stream",
     "text": [
      " 17%|█▋        | 1/6 [00:04<00:24,  4.81s/it]c:\\Users\\cical\\Documents\\GitHub\\Repositories\\pig_tissue_segmentation\\.venv\\lib\\site-packages\\PIL\\Image.py:3402: DecompressionBombWarning: Image size (103603200 pixels) exceeds limit of 89478485 pixels, could be decompression bomb DOS attack.\n",
      "  warnings.warn(\n",
      " 33%|███▎      | 2/6 [00:10<00:20,  5.24s/it]c:\\Users\\cical\\Documents\\GitHub\\Repositories\\pig_tissue_segmentation\\.venv\\lib\\site-packages\\PIL\\Image.py:3402: DecompressionBombWarning: Image size (122205932 pixels) exceeds limit of 89478485 pixels, could be decompression bomb DOS attack.\n",
      "  warnings.warn(\n",
      " 50%|█████     | 3/6 [00:15<00:16,  5.42s/it]c:\\Users\\cical\\Documents\\GitHub\\Repositories\\pig_tissue_segmentation\\.venv\\lib\\site-packages\\PIL\\Image.py:3402: DecompressionBombWarning: Image size (133050450 pixels) exceeds limit of 89478485 pixels, could be decompression bomb DOS attack.\n",
      "  warnings.warn(\n",
      " 67%|██████▋   | 4/6 [00:23<00:12,  6.08s/it]c:\\Users\\cical\\Documents\\GitHub\\Repositories\\pig_tissue_segmentation\\.venv\\lib\\site-packages\\PIL\\Image.py:3402: DecompressionBombWarning: Image size (127579300 pixels) exceeds limit of 89478485 pixels, could be decompression bomb DOS attack.\n",
      "  warnings.warn(\n",
      "100%|██████████| 6/6 [00:33<00:00,  5.64s/it]\n"
     ]
    }
   ],
   "source": [
    "import sys\n",
    "import os\n",
    "from tqdm import tqdm\n",
    "\n",
    "# Aggiungi il percorso del progetto al PYTHONPATH\n",
    "sys.path.append(os.path.abspath(r\"C:\\Users\\cical\\Documents\\GitHub\\Repositories\\pig_tissue_segmentation\"))\n",
    "\n",
    "import src.data.make_dataset as make_dataset\n",
    "import src.data.image_info as image_info\n",
    "\n",
    "slice_dict = make_dataset.load_image_slices(r\"C:\\Users\\cical\\Documents\\GitHub\\Repositories\\pig_tissue_segmentation\\data\\raw\")\n",
    "\n",
    "for slice_id in tqdm(slice_dict):\n",
    "    imageInfo = image_info.ImageSlice(slice_id, slice_dict[slice_id]['wga'], slice_dict[slice_id]['collagen'], slice_dict[slice_id]['autofluorescence'])\n",
    "    imageInfo.analyse_image()\n",
    "\n"
   ]
  }
 ],
 "metadata": {
  "kernelspec": {
   "display_name": ".venv",
   "language": "python",
   "name": "python3"
  },
  "language_info": {
   "codemirror_mode": {
    "name": "ipython",
    "version": 3
   },
   "file_extension": ".py",
   "mimetype": "text/x-python",
   "name": "python",
   "nbconvert_exporter": "python",
   "pygments_lexer": "ipython3",
   "version": "3.10.10"
  }
 },
 "nbformat": 4,
 "nbformat_minor": 2
}
