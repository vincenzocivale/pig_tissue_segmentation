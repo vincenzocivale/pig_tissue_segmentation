{
 "cells": [
  {
   "cell_type": "code",
   "execution_count": 1,
   "metadata": {},
   "outputs": [],
   "source": [
    "import sys\n",
    "import os\n",
    "from tqdm import tqdm\n",
    "# from src.models.setup_model import setup_sam2, load_sam2\n",
    "\n",
    "# Aggiunge il percorso del progetto al PYTHONPATH\n",
    "current_dir = os.path.abspath(os.getcwd())\n",
    "project_home_dir = os.path.abspath(os.path.join(current_dir, os.pardir))\n",
    "\n",
    "sys.path.append(project_home_dir)\n",
    "\n",
    "# # Carica il modello SAM2\n",
    "# setup_sam2(project_home_dir)\n",
    "# predictor = load_sam2(project_home_dir)"
   ]
  },
  {
   "cell_type": "code",
   "execution_count": null,
   "metadata": {},
   "outputs": [
    {
     "name": "stderr",
     "output_type": "stream",
     "text": [
      "  0%|          | 0/6 [00:00<?, ?it/s]"
     ]
    }
   ],
   "source": [
    "import src.data.make_dataset as make_dataset\n",
    "import src.data.image_info as image_info\n",
    "\n",
    "slice_dict = make_dataset.load_image_slices(os.path.join(project_home_dir, r\"data\\raw\"))\n",
    "masks_path_list = {\n",
    "    'BZ2': r\"C:\\Users\\cical\\Documents\\GitHub\\Repositories\\pig_tissue_segmentation\\drive-download-20250222T173434Z-001\\slice_BZ2_preprocessed_collagen_tissue_mask.png\",\n",
    "    'BZ3': r\"C:\\Users\\cical\\Documents\\GitHub\\Repositories\\pig_tissue_segmentation\\drive-download-20250222T173434Z-001\\slice_BZ3_preprocessed_collagen_tissue_mask.png\",\n",
    "    'BZ5': r\"C:\\Users\\cical\\Documents\\GitHub\\Repositories\\pig_tissue_segmentation\\drive-download-20250222T173434Z-001\\slice_BZ5_preprocessed_collagen_tissue_mask.png\",\n",
    "    'BZ6': r\"C:\\Users\\cical\\Documents\\GitHub\\Repositories\\pig_tissue_segmentation\\drive-download-20250222T173434Z-001\\slice_BZ6_preprocessed_collagen_tissue_mask.png\",\n",
    "    'RE1': r\"C:\\Users\\cical\\Documents\\GitHub\\Repositories\\pig_tissue_segmentation\\drive-download-20250222T173434Z-001\\slice_RE1_preprocessed_collagen_tissue_mask.png\",\n",
    "    'RE2': r\"C:\\Users\\cical\\Documents\\GitHub\\Repositories\\pig_tissue_segmentation\\drive-download-20250222T173434Z-001\\slice_RE2_preprocessed_collagen_tissue_mask.png\",\n",
    "}\n",
    "\n",
    "\n",
    "for slice_id in tqdm(slice_dict):\n",
    "    mask_path = masks_path_list[slice_id]\n",
    "    imageInfo = image_info.ImageSlice(slice_id)\n",
    "    imageInfo.load_images(slice_dict[slice_id]['wga'], slice_dict[slice_id]['collagen'], slice_dict[slice_id]['autofluorescence'])\n",
    "    imageInfo.analyse_image2(mask_path)\n",
    "    imageInfo.save_results()"
   ]
  }
 ],
 "metadata": {
  "kernelspec": {
   "display_name": ".venv",
   "language": "python",
   "name": "python3"
  },
  "language_info": {
   "codemirror_mode": {
    "name": "ipython",
    "version": 3
   },
   "file_extension": ".py",
   "mimetype": "text/x-python",
   "name": "python",
   "nbconvert_exporter": "python",
   "pygments_lexer": "ipython3",
   "version": "3.10.10"
  }
 },
 "nbformat": 4,
 "nbformat_minor": 2
}
